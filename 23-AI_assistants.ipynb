{
 "cells": [
  {
   "cell_type": "markdown",
   "id": "719acfb3-e647-4249-8be1-1ed35fe58760",
   "metadata": {},
   "source": [
    "# Using AI assistants\n",
    "\n",
    "Large Language Models have become an important help to explore APIs and write code. While there are numerous commercial solutions requiring a subscription, like chatGPT or GitHub Copilot, other models like Meta's Llama are free. Some versions of these models are small enough to run on regular computers. One of the simplest solutions to use such models is the [Ollama](https://www.ollama.com/) which can simply be downloaded and installed. It gives access to numerous free models that can be downloaded with simple commmands.\n",
    "\n",
    "Here we test a small version of the Llama 3.1 model which can be downloaded from the terminal using:\n",
    "\n",
    "```\n",
    "ollama run llama3.1\n",
    "```\n",
    "\n",
    "To use the model directly in Jupyter, one can then install the [Jupyter-ai](https://github.com/jupyterlab/jupyter-ai) extension using:\n",
    "```\n",
    "conda install -c conda-forge jupyter-ai\n",
    "```\n",
    "\n",
    "Then one can use the magic commands below to use models downloaded via Ollama."
   ]
  },
  {
   "cell_type": "markdown",
   "id": "a4d1c317-4c2c-4168-ba73-affc30a4d56b",
   "metadata": {},
   "source": [
    "## Example\n",
    "\n",
    "The small example below shows how to import the magic command using ```load_ext``` and then ask a programming question to the selected model. The output is then copied in a cell to test it."
   ]
  },
  {
   "cell_type": "code",
   "execution_count": 1,
   "id": "5b9d5099-5201-4bb6-bdba-17840b2f53c0",
   "metadata": {},
   "outputs": [],
   "source": [
    "%load_ext jupyter_ai_magics"
   ]
  },
  {
   "cell_type": "code",
   "execution_count": 2,
   "id": "b57bfb09-21dd-4731-8a09-313867f2d438",
   "metadata": {},
   "outputs": [
    {
     "data": {
      "text/markdown": [
       "Here is the Python code that imports the table, summarizes the data by combining it by the column \"species\", and prints the output in Markdown format:\n",
       "```python\n",
       "import pandas as pd\n",
       "\n",
       "# Load the table into a Pandas DataFrame\n",
       "data = {\n",
       "    'species': ['cat', 'dog', 'cat', 'bird', 'dog', 'bird'],\n",
       "    'height (in)': [10, 15, 12, 20, 18, 22],\n",
       "    'weight (lbs)': [50, 75, 60, 30, 65, 35]\n",
       "}\n",
       "df = pd.DataFrame(data)\n",
       "\n",
       "# Group the data by \"species\" and summarize\n",
       "summary = df.groupby('species').agg({\n",
       "    'height (in)': ['mean', 'count'],\n",
       "    'weight (lbs)': ['mean']\n",
       "})\n",
       "\n",
       "# Print the summary in Markdown format\n",
       "print(\"# Summary of Data by Species\")\n",
       "print(\"| Species | Mean Height (in) | Count | Mean Weight (lbs) |\")\n",
       "for species, group in summary.iterrows():\n",
       "    print(f\"| {species} | {group['height (in)']['mean']} | {group['height (in)']['count']} | {group['weight (lbs)']['mean']} |\")\n",
       "```\n",
       "Output:\n",
       "```markdown\n",
       "# Summary of Data by Species\n",
       "| Species | Mean Height (in) | Count | Mean Weight (lbs) |\n",
       "| cat     | 11.0 | 2       | 55.0        |\n",
       "| bird    | 21.0 | 2       | 32.5        |\n",
       "| dog     | 16.5 | 2       | 70.0        |\n",
       "```\n",
       "Note: This code assumes that the table is stored in a Pandas DataFrame `df`. If you have a CSV or Excel file, you'll need to use a library like `pandas.read_csv()` or `pandas.read_excel()` to load it into the DataFrame."
      ],
      "text/plain": [
       "<IPython.core.display.Markdown object>"
      ]
     },
     "execution_count": 2,
     "metadata": {
      "text/markdown": {
       "jupyter_ai": {
        "model_id": "llama3.1",
        "provider_id": "ollama"
       }
      }
     },
     "output_type": "execute_result"
    }
   ],
   "source": [
    "%%ai ollama:llama3.1\n",
    "Write python code to import a table and summarise data by combining data by the column species."
   ]
  },
  {
   "cell_type": "code",
   "execution_count": 3,
   "id": "05af9cbe-ae22-4350-a56a-59f29258111e",
   "metadata": {},
   "outputs": [
    {
     "name": "stdout",
     "output_type": "stream",
     "text": [
      "# Summary of Data by Species\n",
      "| Species | Mean Height (in) | Count | Mean Weight (lbs) |\n",
      "| bird | 21.0 | 2.0 | 32.5 |\n",
      "| cat | 11.0 | 2.0 | 55.0 |\n",
      "| dog | 16.5 | 2.0 | 70.0 |\n"
     ]
    }
   ],
   "source": [
    "import pandas as pd\n",
    "\n",
    "# Load the table into a Pandas DataFrame\n",
    "data = {\n",
    "    'species': ['cat', 'dog', 'cat', 'bird', 'dog', 'bird'],\n",
    "    'height (in)': [10, 15, 12, 20, 18, 22],\n",
    "    'weight (lbs)': [50, 75, 60, 30, 65, 35]\n",
    "}\n",
    "df = pd.DataFrame(data)\n",
    "\n",
    "# Group the data by \"species\" and summarize\n",
    "summary = df.groupby('species').agg({\n",
    "    'height (in)': ['mean', 'count'],\n",
    "    'weight (lbs)': ['mean']\n",
    "})\n",
    "\n",
    "# Print the summary in Markdown format\n",
    "print(\"# Summary of Data by Species\")\n",
    "print(\"| Species | Mean Height (in) | Count | Mean Weight (lbs) |\")\n",
    "for species, group in summary.iterrows():\n",
    "    print(f\"| {species} | {group['height (in)']['mean']} | {group['height (in)']['count']} | {group['weight (lbs)']['mean']} |\")"
   ]
  },
  {
   "cell_type": "code",
   "execution_count": 4,
   "id": "9d3ba106-6d1c-434e-b190-dce2188c0d38",
   "metadata": {},
   "outputs": [
    {
     "data": {
      "text/html": [
       "<div>\n",
       "<style scoped>\n",
       "    .dataframe tbody tr th:only-of-type {\n",
       "        vertical-align: middle;\n",
       "    }\n",
       "\n",
       "    .dataframe tbody tr th {\n",
       "        vertical-align: top;\n",
       "    }\n",
       "\n",
       "    .dataframe thead tr th {\n",
       "        text-align: left;\n",
       "    }\n",
       "\n",
       "    .dataframe thead tr:last-of-type th {\n",
       "        text-align: right;\n",
       "    }\n",
       "</style>\n",
       "<table border=\"1\" class=\"dataframe\">\n",
       "  <thead>\n",
       "    <tr>\n",
       "      <th></th>\n",
       "      <th colspan=\"2\" halign=\"left\">height (in)</th>\n",
       "      <th>weight (lbs)</th>\n",
       "    </tr>\n",
       "    <tr>\n",
       "      <th></th>\n",
       "      <th>mean</th>\n",
       "      <th>count</th>\n",
       "      <th>mean</th>\n",
       "    </tr>\n",
       "    <tr>\n",
       "      <th>species</th>\n",
       "      <th></th>\n",
       "      <th></th>\n",
       "      <th></th>\n",
       "    </tr>\n",
       "  </thead>\n",
       "  <tbody>\n",
       "    <tr>\n",
       "      <th>bird</th>\n",
       "      <td>21.0</td>\n",
       "      <td>2</td>\n",
       "      <td>32.5</td>\n",
       "    </tr>\n",
       "    <tr>\n",
       "      <th>cat</th>\n",
       "      <td>11.0</td>\n",
       "      <td>2</td>\n",
       "      <td>55.0</td>\n",
       "    </tr>\n",
       "    <tr>\n",
       "      <th>dog</th>\n",
       "      <td>16.5</td>\n",
       "      <td>2</td>\n",
       "      <td>70.0</td>\n",
       "    </tr>\n",
       "  </tbody>\n",
       "</table>\n",
       "</div>"
      ],
      "text/plain": [
       "        height (in)       weight (lbs)\n",
       "               mean count         mean\n",
       "species                               \n",
       "bird           21.0     2         32.5\n",
       "cat            11.0     2         55.0\n",
       "dog            16.5     2         70.0"
      ]
     },
     "execution_count": 4,
     "metadata": {},
     "output_type": "execute_result"
    }
   ],
   "source": [
    "summary"
   ]
  },
  {
   "cell_type": "code",
   "execution_count": null,
   "id": "647eb1e9-bc09-4f50-aa04-70c79138ef4c",
   "metadata": {},
   "outputs": [],
   "source": []
  }
 ],
 "metadata": {
  "kernelspec": {
   "display_name": "Python 3 (ipykernel)",
   "language": "python",
   "name": "python3"
  },
  "language_info": {
   "codemirror_mode": {
    "name": "ipython",
    "version": 3
   },
   "file_extension": ".py",
   "mimetype": "text/x-python",
   "name": "python",
   "nbconvert_exporter": "python",
   "pygments_lexer": "ipython3",
   "version": "3.12.5"
  }
 },
 "nbformat": 4,
 "nbformat_minor": 5
}
