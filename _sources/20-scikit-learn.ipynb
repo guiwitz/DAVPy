{
 "cells": [
  {
   "cell_type": "markdown",
   "id": "ab3d042d-c41e-4311-8052-d7ef9c0c5b86",
   "metadata": {},
   "source": [
    "# 20. scikit-learn\n",
    "\n",
    "scikit-learn is the most popular Machine Learning package in Python. It implements many different types of models, regression, trees, clustering etc. as well as many useful tools for pre- and post-processing. Just like for scipy and statsmodels, we give here an extremely brief introduction to this library, rather to explain its general functioning than to present specific methods. Note that scikit-learn only offers \"classical\" methods and cannot be used e.g. for Deep Learning."
   ]
  },
  {
   "cell_type": "markdown",
   "id": "f26fd27d-4b2e-438f-8962-fa042e167bec",
   "metadata": {},
   "source": [
    "## Linear regression\n",
    "\n",
    "As a start we will once again look at linear regression. As we have seen this method via the precedent packages, it represents a good opportunity to understand the general mechanism of the library. Let's first import the diamond data:"
   ]
  },
  {
   "cell_type": "code",
   "execution_count": 23,
   "id": "034b274f-5b1d-428e-bd4f-24b75c3dccd3",
   "metadata": {},
   "outputs": [],
   "source": [
    "import seaborn as sns\n",
    "import pandas as pd\n",
    "import numpy as np\n",
    "import matplotlib.pyplot as plt\n",
    "\n",
    "diams = pd.read_csv('https://raw.githubusercontent.com/vincentarelbundock/Rdatasets/master/csv/Ecdat/Diamond.csv', index_col=0)"
   ]
  },
  {
   "cell_type": "markdown",
   "id": "8c48f5aa-5b5c-4e72-aeca-913f1a688e99",
   "metadata": {},
   "source": [
    "Now we can import the scikit-learn module implementing linear models with:"
   ]
  },
  {
   "cell_type": "code",
   "execution_count": 2,
   "id": "3a45ca26-7914-4ee1-a175-e26c9a9ee588",
   "metadata": {},
   "outputs": [],
   "source": [
    "from sklearn import linear_model"
   ]
  },
  {
   "cell_type": "markdown",
   "id": "8a5aca13-bee1-42e3-a834-02030bcb69c4",
   "metadata": {},
   "source": [
    "The module offers a very [extensive list](https://scikit-learn.org/stable/modules/classes.html#classical-linear-regressors) of regression models for almost any situation including e.g. outlier, feature selection etc. Here we first use a simple linear regressor. We first instantiate it:"
   ]
  },
  {
   "cell_type": "code",
   "execution_count": 10,
   "id": "93f4da29-b252-4c86-86d5-8277fbb623af",
   "metadata": {},
   "outputs": [],
   "source": [
    "model = linear_model.LinearRegression()"
   ]
  },
  {
   "cell_type": "markdown",
   "id": "3f04d6d7-d76a-47b3-a6be-ed74915c2af7",
   "metadata": {},
   "source": [
    "And like in statsmodels we can now ```fit``` our data. For this we have again to pass our indpendent and dependent variables as Numpy arrays (one row per element in the dataset, one column per feature). Here we only use again price and carat. As we could pass multiple features (not just carat), the ```fit``` function expects a 2D array for X:"
   ]
  },
  {
   "cell_type": "code",
   "execution_count": 13,
   "id": "8ce890b8-c9cb-4f78-8a31-bc1384553e40",
   "metadata": {},
   "outputs": [
    {
     "data": {
      "text/plain": [
       "(308, 1)"
      ]
     },
     "execution_count": 13,
     "metadata": {},
     "output_type": "execute_result"
    }
   ],
   "source": [
    "X = diams.carat.values\n",
    "X = X[:,np.newaxis]\n",
    "X.shape"
   ]
  },
  {
   "cell_type": "code",
   "execution_count": 18,
   "id": "c1b681e0-db3f-41d7-8e29-21e53aec6d46",
   "metadata": {},
   "outputs": [],
   "source": [
    "res = model.fit(X=X, y=diams.price)"
   ]
  },
  {
   "cell_type": "markdown",
   "id": "4942f6b1-69a8-415f-a706-a38a6e7bd848",
   "metadata": {},
   "source": [
    "Also here ```res``` is an object that contains all the necessary information about our fit. For example we can recover the intercept and fit coefficient:"
   ]
  },
  {
   "cell_type": "code",
   "execution_count": 21,
   "id": "d0a1b57a-9cbb-4615-a9af-2043c293420b",
   "metadata": {},
   "outputs": [
    {
     "data": {
      "text/plain": [
       "-2298.357601893803"
      ]
     },
     "execution_count": 21,
     "metadata": {},
     "output_type": "execute_result"
    }
   ],
   "source": [
    "res.intercept_"
   ]
  },
  {
   "cell_type": "code",
   "execution_count": 22,
   "id": "883755c8-68d2-4d86-a2e7-600dc03b9a51",
   "metadata": {},
   "outputs": [
    {
     "data": {
      "text/plain": [
       "array([11598.88401288])"
      ]
     },
     "execution_count": 22,
     "metadata": {},
     "output_type": "execute_result"
    }
   ],
   "source": [
    "res.coef_"
   ]
  },
  {
   "cell_type": "markdown",
   "id": "1dbcc473-2461-475f-9ed4-2972bf4c0b08",
   "metadata": {},
   "source": [
    "We can also use the ```predict``` function on new values for the price. We use it here to display the fit:"
   ]
  },
  {
   "cell_type": "code",
   "execution_count": 26,
   "id": "56e40f08-a8dc-42bc-a128-ec1791908687",
   "metadata": {},
   "outputs": [
    {
     "data": {
      "image/png": "[encoded data removed]",
      "text/plain": [
       "<Figure size 432x288 with 1 Axes>"
      ]
     },
     "metadata": {
      "needs_background": "light"
     },
     "output_type": "display_data"
    }
   ],
   "source": [
    "plt.plot(diams.carat, diams.price, \"b.\", label=\"data\")\n",
    "plt.plot(np.linspace(0.1,1.25,10), res.predict(np.linspace(0.1,1.25,10)[:,np.newaxis]), \"r-\", label=\"OLS\")\n",
    "plt.legend();\n"
   ]
  },
  {
   "cell_type": "markdown",
   "id": "fcbb3a97-c1a7-465a-915a-b948bbe934b8",
   "metadata": {},
   "source": [
    "As before, we can consider a more complex models by adding higher terms (quadratic etc.). We could do it \"manually\" by adding those features to ```X``` but scikit-learn offers some help for this. We can use the ```PolynomialFeatures``` class for that:"
   ]
  },
  {
   "cell_type": "code",
   "execution_count": 30,
   "id": "d442d306-3bc9-4d05-9edb-3fddb7abd443",
   "metadata": {},
   "outputs": [],
   "source": [
    "from sklearn.preprocessing import PolynomialFeatures\n",
    "\n",
    "poly = PolynomialFeatures(degree=2)\n",
    "X_2 = poly.fit_transform(X)"
   ]
  },
  {
   "cell_type": "code",
   "execution_count": 31,
   "id": "1e65be6f-18b8-4bed-a727-f0214a3c5069",
   "metadata": {},
   "outputs": [
    {
     "data": {
      "text/plain": [
       "(308, 3)"
      ]
     },
     "execution_count": 31,
     "metadata": {},
     "output_type": "execute_result"
    }
   ],
   "source": [
    "X_2.shape"
   ]
  },
  {
   "cell_type": "code",
   "execution_count": 32,
   "id": "e52f799b-3ec1-4f38-b69d-23f2b3c76ca9",
   "metadata": {},
   "outputs": [
    {
     "data": {
      "text/plain": [
       "array([[1.    , 0.3   , 0.09  ],\n",
       "       [1.    , 0.3   , 0.09  ],\n",
       "       [1.    , 0.3   , 0.09  ],\n",
       "       [1.    , 0.3   , 0.09  ],\n",
       "       [1.    , 0.31  , 0.0961]])"
      ]
     },
     "execution_count": 32,
     "metadata": {},
     "output_type": "execute_result"
    }
   ],
   "source": [
    "X_2[0:5,:]"
   ]
  },
  {
   "cell_type": "markdown",
   "id": "c6877853-411d-4eea-9977-8ba20aa1e46f",
   "metadata": {},
   "source": [
    "We see now that we have turned our single parameter into three (including the intercept). We can now again fit and display. Note that here again the ```predict``` input should also be passed through the ```fit_transform``` function to match the dimensions of the training data:"
   ]
  },
  {
   "cell_type": "code",
   "execution_count": 39,
   "id": "34973e4d-4979-409b-91fc-ddf312a67986",
   "metadata": {},
   "outputs": [
    {
     "data": {
      "image/png": "[encoded data removed]",
      "text/plain": [
       "<Figure size 432x288 with 1 Axes>"
      ]
     },
     "metadata": {
      "needs_background": "light"
     },
     "output_type": "display_data"
    }
   ],
   "source": [
    "res = model.fit(X=X_2, y=diams.price)\n",
    "\n",
    "plt.plot(diams.carat, diams.price, \"b.\", label=\"data\")\n",
    "plt.plot(np.linspace(0.1,1.25,20), res.predict(poly.fit_transform(np.linspace(0.1,1.25,20)[:,np.newaxis])), \"r-\", label=\"OLS\")\n",
    "plt.legend();\n"
   ]
  },
  {
   "cell_type": "markdown",
   "id": "a8452a08-4d98-4a40-89d8-25060e799770",
   "metadata": {},
   "source": [
    "### SGD\n",
    "\n",
    "We show now one alternative model for linear regression, just to highlight the fact the despite using very different algorithms, they are used almost in the same way in scikit-learn. We use here Stochastic Gradient Descent, which can be useful for large high-dimensional datasets where OLS would be very slow. Let's define our regressor:"
   ]
  },
  {
   "cell_type": "code",
   "execution_count": 40,
   "id": "01350e37-c36e-4f3d-bbd7-24b2ca41734e",
   "metadata": {},
   "outputs": [],
   "source": [
    "model = linear_model.SGDRegressor()"
   ]
  },
  {
   "cell_type": "markdown",
   "id": "4efc7528-64dd-4118-a6df-68ae044c4f52",
   "metadata": {},
   "source": [
    "And now we use it just like done above. As you can see, the **only** thing that changes is the model definition. All the rest, with the ```fit``` and ```predict``` methods remains unchanged! This makes it very easy to explore many models to find the best one for your problem."
   ]
  },
  {
   "cell_type": "code",
   "execution_count": 43,
   "id": "a98946d0-4cd4-4ca2-8cda-2c08d65463ce",
   "metadata": {},
   "outputs": [
    {
     "data": {
      "image/png": "[encoded data removed]",
      "text/plain": [
       "<Figure size 432x288 with 1 Axes>"
      ]
     },
     "metadata": {
      "needs_background": "light"
     },
     "output_type": "display_data"
    }
   ],
   "source": [
    "res = model.fit(X=X_2, y=diams.price)\n",
    "\n",
    "plt.plot(diams.carat, diams.price, \"b.\", label=\"data\")\n",
    "plt.plot(np.linspace(0.1,1.25,20), res.predict(poly.fit_transform(np.linspace(0.1,1.25,20)[:,np.newaxis])), \"r-\", label=\"OLS\")\n",
    "plt.legend();\n"
   ]
  },
  {
   "cell_type": "markdown",
   "id": "25894ae8-102e-4e58-802a-ee845a1fcbff",
   "metadata": {},
   "source": [
    "## Classification\n",
    "\n",
    "A big strength of scikit-learn is its vast collection of classification methods. In contrast to regression where a continuous value is predicted from a set of features, classification attempts to assign data to *discrete* categories. \n",
    "\n",
    "For example we can split the diamonds into \"expensive\" and \"cheap\" categories and then try to classify them using the carat:"
   ]
  },
  {
   "cell_type": "code",
   "execution_count": 73,
   "id": "01baa8b9-57bb-4891-963d-e35b2b25182a",
   "metadata": {},
   "outputs": [],
   "source": [
    "diams['price_cat'] = diams.price.apply(lambda x: 1 if x > 4000 else 0)"
   ]
  },
  {
   "cell_type": "code",
   "execution_count": 74,
   "id": "d222a20b-afa5-4861-95dd-96cd6d8545cc",
   "metadata": {},
   "outputs": [
    {
     "data": {
      "text/html": [
       "<div>\n",
       "<style scoped>\n",
       "    .dataframe tbody tr th:only-of-type {\n",
       "        vertical-align: middle;\n",
       "    }\n",
       "\n",
       "    .dataframe tbody tr th {\n",
       "        vertical-align: top;\n",
       "    }\n",
       "\n",
       "    .dataframe thead th {\n",
       "        text-align: right;\n",
       "    }\n",
       "</style>\n",
       "<table border=\"1\" class=\"dataframe\">\n",
       "  <thead>\n",
       "    <tr style=\"text-align: right;\">\n",
       "      <th></th>\n",
       "      <th>carat</th>\n",
       "      <th>colour</th>\n",
       "      <th>clarity</th>\n",
       "      <th>certification</th>\n",
       "      <th>price</th>\n",
       "      <th>price_cat</th>\n",
       "    </tr>\n",
       "  </thead>\n",
       "  <tbody>\n",
       "    <tr>\n",
       "      <th>1</th>\n",
       "      <td>0.30</td>\n",
       "      <td>D</td>\n",
       "      <td>VS2</td>\n",
       "      <td>GIA</td>\n",
       "      <td>1302</td>\n",
       "      <td>0</td>\n",
       "    </tr>\n",
       "    <tr>\n",
       "      <th>2</th>\n",
       "      <td>0.30</td>\n",
       "      <td>E</td>\n",
       "      <td>VS1</td>\n",
       "      <td>GIA</td>\n",
       "      <td>1510</td>\n",
       "      <td>0</td>\n",
       "    </tr>\n",
       "    <tr>\n",
       "      <th>3</th>\n",
       "      <td>0.30</td>\n",
       "      <td>G</td>\n",
       "      <td>VVS1</td>\n",
       "      <td>GIA</td>\n",
       "      <td>1510</td>\n",
       "      <td>0</td>\n",
       "    </tr>\n",
       "    <tr>\n",
       "      <th>4</th>\n",
       "      <td>0.30</td>\n",
       "      <td>G</td>\n",
       "      <td>VS1</td>\n",
       "      <td>GIA</td>\n",
       "      <td>1260</td>\n",
       "      <td>0</td>\n",
       "    </tr>\n",
       "    <tr>\n",
       "      <th>5</th>\n",
       "      <td>0.31</td>\n",
       "      <td>D</td>\n",
       "      <td>VS1</td>\n",
       "      <td>GIA</td>\n",
       "      <td>1641</td>\n",
       "      <td>0</td>\n",
       "    </tr>\n",
       "  </tbody>\n",
       "</table>\n",
       "</div>"
      ],
      "text/plain": [
       "   carat colour clarity certification  price  price_cat\n",
       "1   0.30      D     VS2           GIA   1302          0\n",
       "2   0.30      E     VS1           GIA   1510          0\n",
       "3   0.30      G    VVS1           GIA   1510          0\n",
       "4   0.30      G     VS1           GIA   1260          0\n",
       "5   0.31      D     VS1           GIA   1641          0"
      ]
     },
     "execution_count": 74,
     "metadata": {},
     "output_type": "execute_result"
    }
   ],
   "source": [
    "diams.head()"
   ]
  },
  {
   "cell_type": "markdown",
   "id": "9d801208-7097-45ef-98fd-85a1a4181765",
   "metadata": {},
   "source": [
    "We obtain now a plot that can definitely not be modelled via simple linear regression. The goal is to estimate where the boundary is between cheap and expensive:"
   ]
  },
  {
   "cell_type": "code",
   "execution_count": 104,
   "id": "177f0ab8-95ae-4903-88af-ad1e3c0fe808",
   "metadata": {},
   "outputs": [
    {
     "data": {
      "image/png": "[encoded data removed]",
      "text/plain": [
       "<Figure size 432x288 with 1 Axes>"
      ]
     },
     "metadata": {
      "needs_background": "light"
     },
     "output_type": "display_data"
    }
   ],
   "source": [
    "sns.scatterplot(data = {'carat': diams.carat, 'price category': diams.price_cat},\n",
    "                x='carat', y='price category');"
   ]
  },
  {
   "cell_type": "markdown",
   "id": "4c6ec9c3-0cb3-4a09-b0f1-cc74477e627d",
   "metadata": {},
   "source": [
    "To find this boundary we can use logistic regression, which fits a sigmoid to the data. Again this is available from the ```linear_model``` module"
   ]
  },
  {
   "cell_type": "code",
   "execution_count": 105,
   "id": "0f795e9d-c0ff-4526-ab8d-a4e478a93d38",
   "metadata": {},
   "outputs": [],
   "source": [
    "from sklearn.linear_model import LogisticRegression"
   ]
  },
  {
   "cell_type": "markdown",
   "id": "684c86d1-5878-4195-81f4-d6f42158ff1d",
   "metadata": {},
   "source": [
    "We feed the fit method exactly as before: we need an ```X``` array (or dataframe) of features and a ```y``` vector of targets:"
   ]
  },
  {
   "cell_type": "code",
   "execution_count": 106,
   "id": "1ae1f1b7-189a-4d86-8d5d-852d11a6dabd",
   "metadata": {},
   "outputs": [],
   "source": [
    "model = LogisticRegression()\n",
    "model.fit(X=diams[['carat']], y=diams.price_cat)\n",
    "\n",
    "pred = model.predict(pd.DataFrame({'carat': np.arange(0,1,0.1)}))"
   ]
  },
  {
   "cell_type": "code",
   "execution_count": 107,
   "id": "5c95e8a3-3cb0-4332-9653-1da8b235aaa7",
   "metadata": {},
   "outputs": [
    {
     "data": {
      "image/png": "[encoded data removed]",
      "text/plain": [
       "<Figure size 432x288 with 1 Axes>"
      ]
     },
     "metadata": {
      "needs_background": "light"
     },
     "output_type": "display_data"
    }
   ],
   "source": [
    "sns.scatterplot(data = {'carat': diams.carat, 'price category': diams.price_cat},\n",
    "                x='carat', y='price category', label='data');\n",
    "sns.lineplot(x=np.arange(0,1,0.1), y=pred, label='logistic reg', color='r');"
   ]
  },
  {
   "cell_type": "markdown",
   "id": "9cf4bbde-9194-4ea4-bd7a-636d81420472",
   "metadata": {},
   "source": [
    "Another large class of methods are tree based: you use all the features and by answering binary questions about them of the type \"is feature large than a threshold\" you can create a question-tree that in the end answers in which category a certain item falls. For example we can now try to use both the carat and the color to predict price. Here we have however one problem: these methods work only with numerical variable but the color is categorical. So we have to turn that variable into numbers, but we can't just assign numbers: if we do, suddenly a given color has a large or small value that doesn't make any sense but will impact the classification. The common solution is to use *one hot encoding* in this case: we create one new column for each colour and fill it with zeros and ones. Ones will only appear on those lines where the colour is actually appearing. Both Pandas and scikit-learn offer tools for that. In scikit-learn we use the ```OneHotEncoder``` from the ```preprocessing``` module"
   ]
  },
  {
   "cell_type": "code",
   "execution_count": 108,
   "id": "04386589-c832-4d29-a5cd-9d0b7192fe6a",
   "metadata": {},
   "outputs": [],
   "source": [
    "from sklearn import preprocessing"
   ]
  },
  {
   "cell_type": "code",
   "execution_count": 109,
   "id": "e9a9c188-15d7-4663-9956-e1b22496a58a",
   "metadata": {},
   "outputs": [
    {
     "data": {
      "text/plain": [
       "array([[1., 0., 0., 0., 0., 0.],\n",
       "       [0., 1., 0., 0., 0., 0.],\n",
       "       [0., 0., 0., 1., 0., 0.],\n",
       "       ...,\n",
       "       [0., 0., 0., 0., 1., 0.],\n",
       "       [0., 0., 0., 0., 1., 0.],\n",
       "       [0., 0., 0., 0., 0., 1.]])"
      ]
     },
     "execution_count": 109,
     "metadata": {},
     "output_type": "execute_result"
    }
   ],
   "source": [
    "encoder = preprocessing.OneHotEncoder(sparse=False)\n",
    "encoder.fit_transform(diams[['colour']])"
   ]
  },
  {
   "cell_type": "code",
   "execution_count": 110,
   "id": "9434b35c-d60e-4406-96ed-46163b992c5c",
   "metadata": {},
   "outputs": [
    {
     "data": {
      "text/plain": [
       "1    D\n",
       "2    E\n",
       "3    G\n",
       "4    G\n",
       "5    D\n",
       "Name: colour, dtype: object"
      ]
     },
     "execution_count": 110,
     "metadata": {},
     "output_type": "execute_result"
    }
   ],
   "source": [
    "diams.colour.head(5)"
   ]
  },
  {
   "cell_type": "markdown",
   "id": "ac0104d0-0bfc-4e8a-855f-a68ea817ed82",
   "metadata": {},
   "source": [
    "Here we see how the encoding works: the first column corresponds to the colour ```D```. As the first item is D, we have a ```1``` there and zeros for all other columns. The second item has colour ```E``` which is encoded in the second column. So we have a ```1``` in the second column and zeros in all others etc.\n",
    "\n",
    "The ```get_dummies``` function in Pandas allows us to do the same operation but here we get a DataFrame as output: "
   ]
  },
  {
   "cell_type": "code",
   "execution_count": 111,
   "id": "37b58b27-dd39-466e-bb85-8af017e5160c",
   "metadata": {},
   "outputs": [
    {
     "data": {
      "text/html": [
       "<div>\n",
       "<style scoped>\n",
       "    .dataframe tbody tr th:only-of-type {\n",
       "        vertical-align: middle;\n",
       "    }\n",
       "\n",
       "    .dataframe tbody tr th {\n",
       "        vertical-align: top;\n",
       "    }\n",
       "\n",
       "    .dataframe thead th {\n",
       "        text-align: right;\n",
       "    }\n",
       "</style>\n",
       "<table border=\"1\" class=\"dataframe\">\n",
       "  <thead>\n",
       "    <tr style=\"text-align: right;\">\n",
       "      <th></th>\n",
       "      <th>colour_D</th>\n",
       "      <th>colour_E</th>\n",
       "      <th>colour_F</th>\n",
       "      <th>colour_G</th>\n",
       "      <th>colour_H</th>\n",
       "      <th>colour_I</th>\n",
       "    </tr>\n",
       "  </thead>\n",
       "  <tbody>\n",
       "    <tr>\n",
       "      <th>1</th>\n",
       "      <td>1</td>\n",
       "      <td>0</td>\n",
       "      <td>0</td>\n",
       "      <td>0</td>\n",
       "      <td>0</td>\n",
       "      <td>0</td>\n",
       "    </tr>\n",
       "    <tr>\n",
       "      <th>2</th>\n",
       "      <td>0</td>\n",
       "      <td>1</td>\n",
       "      <td>0</td>\n",
       "      <td>0</td>\n",
       "      <td>0</td>\n",
       "      <td>0</td>\n",
       "    </tr>\n",
       "    <tr>\n",
       "      <th>3</th>\n",
       "      <td>0</td>\n",
       "      <td>0</td>\n",
       "      <td>0</td>\n",
       "      <td>1</td>\n",
       "      <td>0</td>\n",
       "      <td>0</td>\n",
       "    </tr>\n",
       "    <tr>\n",
       "      <th>4</th>\n",
       "      <td>0</td>\n",
       "      <td>0</td>\n",
       "      <td>0</td>\n",
       "      <td>1</td>\n",
       "      <td>0</td>\n",
       "      <td>0</td>\n",
       "    </tr>\n",
       "    <tr>\n",
       "      <th>5</th>\n",
       "      <td>1</td>\n",
       "      <td>0</td>\n",
       "      <td>0</td>\n",
       "      <td>0</td>\n",
       "      <td>0</td>\n",
       "      <td>0</td>\n",
       "    </tr>\n",
       "  </tbody>\n",
       "</table>\n",
       "</div>"
      ],
      "text/plain": [
       "   colour_D  colour_E  colour_F  colour_G  colour_H  colour_I\n",
       "1         1         0         0         0         0         0\n",
       "2         0         1         0         0         0         0\n",
       "3         0         0         0         1         0         0\n",
       "4         0         0         0         1         0         0\n",
       "5         1         0         0         0         0         0"
      ]
     },
     "execution_count": 111,
     "metadata": {},
     "output_type": "execute_result"
    }
   ],
   "source": [
    "color_one_hot = pd.get_dummies(diams.colour, prefix='colour')\n",
    "color_one_hot.head(5)"
   ]
  },
  {
   "cell_type": "markdown",
   "id": "21c99433-1d29-4665-8f5f-f18eeaf1b60d",
   "metadata": {},
   "source": [
    "Now we can combine the carat information with this new colour dataframe to create our variable ```X```:"
   ]
  },
  {
   "cell_type": "code",
   "execution_count": 113,
   "id": "e9748d1b-8bc7-4773-8a4b-4a95b45b8f0c",
   "metadata": {},
   "outputs": [
    {
     "data": {
      "text/html": [
       "<div>\n",
       "<style scoped>\n",
       "    .dataframe tbody tr th:only-of-type {\n",
       "        vertical-align: middle;\n",
       "    }\n",
       "\n",
       "    .dataframe tbody tr th {\n",
       "        vertical-align: top;\n",
       "    }\n",
       "\n",
       "    .dataframe thead th {\n",
       "        text-align: right;\n",
       "    }\n",
       "</style>\n",
       "<table border=\"1\" class=\"dataframe\">\n",
       "  <thead>\n",
       "    <tr style=\"text-align: right;\">\n",
       "      <th></th>\n",
       "      <th>carat</th>\n",
       "      <th>colour_D</th>\n",
       "      <th>colour_E</th>\n",
       "      <th>colour_F</th>\n",
       "      <th>colour_G</th>\n",
       "      <th>colour_H</th>\n",
       "      <th>colour_I</th>\n",
       "    </tr>\n",
       "  </thead>\n",
       "  <tbody>\n",
       "    <tr>\n",
       "      <th>1</th>\n",
       "      <td>0.30</td>\n",
       "      <td>1</td>\n",
       "      <td>0</td>\n",
       "      <td>0</td>\n",
       "      <td>0</td>\n",
       "      <td>0</td>\n",
       "      <td>0</td>\n",
       "    </tr>\n",
       "    <tr>\n",
       "      <th>2</th>\n",
       "      <td>0.30</td>\n",
       "      <td>0</td>\n",
       "      <td>1</td>\n",
       "      <td>0</td>\n",
       "      <td>0</td>\n",
       "      <td>0</td>\n",
       "      <td>0</td>\n",
       "    </tr>\n",
       "    <tr>\n",
       "      <th>3</th>\n",
       "      <td>0.30</td>\n",
       "      <td>0</td>\n",
       "      <td>0</td>\n",
       "      <td>0</td>\n",
       "      <td>1</td>\n",
       "      <td>0</td>\n",
       "      <td>0</td>\n",
       "    </tr>\n",
       "    <tr>\n",
       "      <th>4</th>\n",
       "      <td>0.30</td>\n",
       "      <td>0</td>\n",
       "      <td>0</td>\n",
       "      <td>0</td>\n",
       "      <td>1</td>\n",
       "      <td>0</td>\n",
       "      <td>0</td>\n",
       "    </tr>\n",
       "    <tr>\n",
       "      <th>5</th>\n",
       "      <td>0.31</td>\n",
       "      <td>1</td>\n",
       "      <td>0</td>\n",
       "      <td>0</td>\n",
       "      <td>0</td>\n",
       "      <td>0</td>\n",
       "      <td>0</td>\n",
       "    </tr>\n",
       "  </tbody>\n",
       "</table>\n",
       "</div>"
      ],
      "text/plain": [
       "   carat  colour_D  colour_E  colour_F  colour_G  colour_H  colour_I\n",
       "1   0.30         1         0         0         0         0         0\n",
       "2   0.30         0         1         0         0         0         0\n",
       "3   0.30         0         0         0         1         0         0\n",
       "4   0.30         0         0         0         1         0         0\n",
       "5   0.31         1         0         0         0         0         0"
      ]
     },
     "execution_count": 113,
     "metadata": {},
     "output_type": "execute_result"
    }
   ],
   "source": [
    "X = pd.concat([diams[['carat']], color_one_hot], axis=1)\n",
    "X.head(5)"
   ]
  },
  {
   "cell_type": "markdown",
   "id": "4905e5b2-a6b6-401b-be7b-acce6af7a523",
   "metadata": {},
   "source": [
    "Finally, we can create a decision tree. Again, we use it by feeding an ```X``` array and ```y``` vector:"
   ]
  },
  {
   "cell_type": "code",
   "execution_count": 114,
   "id": "2853ab1c-2bbc-490f-928b-d3f62198eb73",
   "metadata": {},
   "outputs": [],
   "source": [
    "from sklearn import tree\n",
    "\n",
    "y = diams.price_cat\n",
    "clf = tree.DecisionTreeClassifier(max_depth=3)\n",
    "clf = clf.fit(X, y)"
   ]
  },
  {
   "cell_type": "markdown",
   "id": "da3a30bb-21b9-4aa2-88e3-1378043189d9",
   "metadata": {},
   "source": [
    "We can visualize the decision tree:"
   ]
  },
  {
   "cell_type": "code",
   "execution_count": 116,
   "id": "80ba89af-5583-441c-a93c-fd4734f7ab18",
   "metadata": {},
   "outputs": [
    {
     "data": {
      "image/png": "[encoded data removed]",
      "text/plain": [
       "<Figure size 720x720 with 1 Axes>"
      ]
     },
     "metadata": {
      "needs_background": "light"
     },
     "output_type": "display_data"
    }
   ],
   "source": [
    "fig, ax = plt.subplots(figsize=(10,10))\n",
    "tree.plot_tree(clf, feature_names=X.columns, ax=ax);"
   ]
  },
  {
   "cell_type": "markdown",
   "id": "291b2a0e-426e-4e0a-a0fc-8c5930846c23",
   "metadata": {},
   "source": [
    "We limited the tree to three levels. We could add more and have a better classification, but the risk is to overfit. In this tree we see that the most important feature is the ```carat``` which does the first split at a value of 0.625. Then some minor improvement is added by using the colours ```E``` and ```G``` in two places."
   ]
  },
  {
   "cell_type": "markdown",
   "id": "5d9f3c56-4a58-4e6e-9bdf-f065875277f3",
   "metadata": {},
   "source": [
    "## Clustering\n",
    "\n",
    "The last important category of operation we can do with scikit-learn is clustering. Here the goal is to split data in multiple groups without knowing in advance the groups. For example we can try to define cluster of points in the price vs. carat plot:"
   ]
  },
  {
   "cell_type": "code",
   "execution_count": 118,
   "id": "2a9e08ee-4b16-48de-9c5a-a7047272c9c8",
   "metadata": {},
   "outputs": [
    {
     "data": {
      "image/png": "[encoded data removed]",
      "text/plain": [
       "<Figure size 432x288 with 1 Axes>"
      ]
     },
     "metadata": {
      "needs_background": "light"
     },
     "output_type": "display_data"
    }
   ],
   "source": [
    "sns.scatterplot(data=diams, x='carat', y='price');"
   ]
  },
  {
   "cell_type": "markdown",
   "id": "3d58e11e-aa41-4272-9e23-bfae4df7c895",
   "metadata": {},
   "source": [
    "We will show a simple example using k-means clustering from the ```cluster``` module:"
   ]
  },
  {
   "cell_type": "code",
   "execution_count": 119,
   "id": "6fffbff9-783d-4fc2-83d8-48446a27741e",
   "metadata": {},
   "outputs": [],
   "source": [
    "from sklearn import cluster"
   ]
  },
  {
   "cell_type": "code",
   "execution_count": 388,
   "id": "194da1e0-24df-4832-857a-62f75c0d74cf",
   "metadata": {},
   "outputs": [
    {
     "data": {
      "text/plain": [
       "KMeans(n_clusters=3)"
      ]
     },
     "execution_count": 388,
     "metadata": {},
     "output_type": "execute_result"
    }
   ],
   "source": [
    "cls = cluster.KMeans(n_clusters=3)\n",
    "X = diams[['carat', 'price']]\n",
    "cls.fit(X=X)"
   ]
  },
  {
   "cell_type": "markdown",
   "id": "e88ffb59-45ca-48df-b430-162c6839a6d4",
   "metadata": {},
   "source": [
    "Now we can visualy verify the result. First we add the classification label to our table to be use it to colour points. We specify it has a categorical variable so that seaborn then uses an appropriate colour palette:"
   ]
  },
  {
   "cell_type": "code",
   "execution_count": 389,
   "id": "b218cd04-2312-400a-8ad8-213a0f5a2bfe",
   "metadata": {},
   "outputs": [
    {
     "name": "stderr",
     "output_type": "stream",
     "text": [
      "/var/folders/mk/632_7fgs4v374qc935pvf9v00000gn/T/ipykernel_70861/2577989311.py:1: SettingWithCopyWarning: \n",
      "A value is trying to be set on a copy of a slice from a DataFrame.\n",
      "Try using .loc[row_indexer,col_indexer] = value instead\n",
      "\n",
      "See the caveats in the documentation: https://pandas.pydata.org/pandas-docs/stable/user_guide/indexing.html#returning-a-view-versus-a-copy\n",
      "  X['label'] = pd.Categorical(cls.labels_)\n"
     ]
    }
   ],
   "source": [
    "X['label'] = pd.Categorical(cls.labels_)"
   ]
  },
  {
   "cell_type": "code",
   "execution_count": 390,
   "id": "2fb9f2ab-9a9e-4388-aa24-795c0b006fed",
   "metadata": {},
   "outputs": [
    {
     "data": {
      "text/html": [
       "<div>\n",
       "<style scoped>\n",
       "    .dataframe tbody tr th:only-of-type {\n",
       "        vertical-align: middle;\n",
       "    }\n",
       "\n",
       "    .dataframe tbody tr th {\n",
       "        vertical-align: top;\n",
       "    }\n",
       "\n",
       "    .dataframe thead th {\n",
       "        text-align: right;\n",
       "    }\n",
       "</style>\n",
       "<table border=\"1\" class=\"dataframe\">\n",
       "  <thead>\n",
       "    <tr style=\"text-align: right;\">\n",
       "      <th></th>\n",
       "      <th>carat</th>\n",
       "      <th>price</th>\n",
       "      <th>label</th>\n",
       "    </tr>\n",
       "  </thead>\n",
       "  <tbody>\n",
       "    <tr>\n",
       "      <th>1</th>\n",
       "      <td>0.30</td>\n",
       "      <td>1302</td>\n",
       "      <td>2</td>\n",
       "    </tr>\n",
       "    <tr>\n",
       "      <th>2</th>\n",
       "      <td>0.30</td>\n",
       "      <td>1510</td>\n",
       "      <td>2</td>\n",
       "    </tr>\n",
       "    <tr>\n",
       "      <th>3</th>\n",
       "      <td>0.30</td>\n",
       "      <td>1510</td>\n",
       "      <td>2</td>\n",
       "    </tr>\n",
       "    <tr>\n",
       "      <th>4</th>\n",
       "      <td>0.30</td>\n",
       "      <td>1260</td>\n",
       "      <td>2</td>\n",
       "    </tr>\n",
       "    <tr>\n",
       "      <th>5</th>\n",
       "      <td>0.31</td>\n",
       "      <td>1641</td>\n",
       "      <td>2</td>\n",
       "    </tr>\n",
       "  </tbody>\n",
       "</table>\n",
       "</div>"
      ],
      "text/plain": [
       "   carat  price label\n",
       "1   0.30   1302     2\n",
       "2   0.30   1510     2\n",
       "3   0.30   1510     2\n",
       "4   0.30   1260     2\n",
       "5   0.31   1641     2"
      ]
     },
     "execution_count": 390,
     "metadata": {},
     "output_type": "execute_result"
    }
   ],
   "source": [
    "X.head(5)"
   ]
  },
  {
   "cell_type": "code",
   "execution_count": 391,
   "id": "5e9a6af7-ed26-4a33-995e-a7a222c1c121",
   "metadata": {},
   "outputs": [
    {
     "data": {
      "image/png": "[encoded data removed]",
      "text/plain": [
       "<Figure size 432x288 with 1 Axes>"
      ]
     },
     "metadata": {
      "needs_background": "light"
     },
     "output_type": "display_data"
    }
   ],
   "source": [
    "sns.scatterplot(data=X, x='carat', y='price', hue='label');"
   ]
  },
  {
   "cell_type": "markdown",
   "id": "f64fe5e4-34e4-450e-8a78-e541111aea0c",
   "metadata": {},
   "source": [
    "## Other tools\n",
    "\n",
    "scikit-learn also offers many additional tools useful in ML and we only highlight a few of them here. "
   ]
  },
  {
   "cell_type": "markdown",
   "id": "2627f9fd-f4b8-418d-964b-a48ed1d6f4a9",
   "metadata": {},
   "source": [
    "### Normalizing data\n",
    "\n",
    "Certain ML models require the variables to be normalized or scaled. For example in clustering, if the metric used is simply the distance between points, the feature with the largest magnitude will dominate and to avoid that, one should normalize each feature first. All normalizers can be found in the ```preprocessing``` module and are essentially used like the models:"
   ]
  },
  {
   "cell_type": "code",
   "execution_count": 438,
   "id": "4ad9f73b-dde0-4cd2-b6d9-eba21e921594",
   "metadata": {},
   "outputs": [],
   "source": [
    "from sklearn import preprocessing"
   ]
  },
  {
   "cell_type": "code",
   "execution_count": 441,
   "id": "b8fd2150-c585-4ac1-8ecc-c4368f670947",
   "metadata": {},
   "outputs": [],
   "source": [
    "X = diams[['carat', 'price']]\n",
    "\n",
    "scaler = preprocessing.StandardScaler()\n",
    "\n",
    "X_norm = scaler.fit_transform(X=X)\n",
    "X_norm = pd.DataFrame(X_norm, columns=X.columns)"
   ]
  },
  {
   "cell_type": "code",
   "execution_count": 442,
   "id": "85c23a51-e12d-44a5-9c86-b7ca0151b5fa",
   "metadata": {},
   "outputs": [],
   "source": [
    "cls = cluster.KMeans(n_clusters=3)\n",
    "cls.fit(X=X_norm)\n",
    "\n",
    "X_norm['label'] = pd.Categorical(cls.labels_)"
   ]
  },
  {
   "cell_type": "code",
   "execution_count": 443,
   "id": "46e006ea-e176-4ddb-bcfd-4013f64fb4e7",
   "metadata": {},
   "outputs": [
    {
     "data": {
      "image/png": "[encoded data removed]",
      "text/plain": [
       "<Figure size 432x288 with 1 Axes>"
      ]
     },
     "metadata": {
      "needs_background": "light"
     },
     "output_type": "display_data"
    }
   ],
   "source": [
    "sns.scatterplot(data=X_norm, x='carat', y='price', hue='label');"
   ]
  },
  {
   "cell_type": "markdown",
   "id": "eacb7251-2255-4b95-a65f-752c23b9c190",
   "metadata": {},
   "source": [
    "### Metrics\n",
    "\n",
    "Another very important module contains a large choice of metrics read to use. For example instead of manually computing the mean squared error we can use:"
   ]
  },
  {
   "cell_type": "code",
   "execution_count": 445,
   "id": "bf1620ea-9e02-4346-8608-2cfcc40565eb",
   "metadata": {},
   "outputs": [],
   "source": [
    "res = model.fit(X=X, y=diams.price)"
   ]
  },
  {
   "cell_type": "code",
   "execution_count": 446,
   "id": "eefdeaaa-105e-412a-a23e-b2b2b72d022b",
   "metadata": {},
   "outputs": [],
   "source": [
    "y_pred = res.predict(X)"
   ]
  },
  {
   "cell_type": "code",
   "execution_count": 447,
   "id": "90923364-7b07-43dd-bb07-bd01233985f4",
   "metadata": {},
   "outputs": [],
   "source": [
    "from sklearn import metrics"
   ]
  },
  {
   "cell_type": "code",
   "execution_count": 453,
   "id": "d0ef7e64-835d-4fea-98d3-2dc81f7144b2",
   "metadata": {},
   "outputs": [
    {
     "data": {
      "text/plain": [
       "(308,)"
      ]
     },
     "execution_count": 453,
     "metadata": {},
     "output_type": "execute_result"
    }
   ],
   "source": [
    "y_pred.shape"
   ]
  },
  {
   "cell_type": "code",
   "execution_count": 455,
   "id": "428ac757-615f-4cc8-9d90-9bd3f755df02",
   "metadata": {},
   "outputs": [
    {
     "data": {
      "text/plain": [
       "7153388.292207792"
      ]
     },
     "execution_count": 455,
     "metadata": {},
     "output_type": "execute_result"
    }
   ],
   "source": [
    "metrics.mean_squared_error(diams.price, y_pred)"
   ]
  },
  {
   "cell_type": "markdown",
   "id": "cf276de8-4dce-4f3a-8df9-e45d7a9e83a5",
   "metadata": {},
   "source": [
    "For classification we can use for example the accuracy:"
   ]
  },
  {
   "cell_type": "code",
   "execution_count": 456,
   "id": "32fef3d0-7ece-4a46-b685-1c51a715d8e4",
   "metadata": {},
   "outputs": [],
   "source": [
    "model = LogisticRegression()\n",
    "model.fit(X=diams[['carat']], y=diams.price_cat)\n",
    "\n",
    "pred = model.predict(diams[['carat']])#pd.DataFrame({'carat': np.arange(0,1,0.1)}))"
   ]
  },
  {
   "cell_type": "code",
   "execution_count": 460,
   "id": "62bd6af7-6e5a-4750-a8db-345deae44909",
   "metadata": {},
   "outputs": [
    {
     "data": {
      "text/plain": [
       "0.9642857142857143"
      ]
     },
     "execution_count": 460,
     "metadata": {},
     "output_type": "execute_result"
    }
   ],
   "source": [
    "metrics.accuracy_score(y_true=diams.price_cat, y_pred=pred)"
   ]
  },
  {
   "cell_type": "markdown",
   "id": "3b45adeb-d795-4b30-ace3-a38bab4e99bb",
   "metadata": {},
   "source": [
    "### Pipelines\n",
    "\n",
    "Finally we can incorporate multiple parts of our process into a single pipeline. For example if we need to first normalize and then cluster data, we can add both process into a single pipeline:"
   ]
  },
  {
   "cell_type": "code",
   "execution_count": 461,
   "id": "cee294d5-a5a9-420f-870a-1848eb458883",
   "metadata": {},
   "outputs": [],
   "source": [
    "from sklearn.pipeline import Pipeline"
   ]
  },
  {
   "cell_type": "code",
   "execution_count": 463,
   "id": "81ca528c-a47f-4c32-b5d7-6664908b9a99",
   "metadata": {},
   "outputs": [],
   "source": [
    "pipe = Pipeline([('normalize', preprocessing.StandardScaler()), ('cluster', cluster.KMeans(n_clusters=3))])"
   ]
  },
  {
   "cell_type": "code",
   "execution_count": 464,
   "id": "c93b54d0-97e4-4676-972f-43ac70ffd96d",
   "metadata": {},
   "outputs": [
    {
     "data": {
      "text/plain": [
       "Pipeline(steps=[('normalize', StandardScaler()),\n",
       "                ('cluster', KMeans(n_clusters=3))])"
      ]
     },
     "execution_count": 464,
     "metadata": {},
     "output_type": "execute_result"
    }
   ],
   "source": [
    "pipe.fit(X)"
   ]
  },
  {
   "cell_type": "code",
   "execution_count": 465,
   "id": "a6c19c67-8fbe-45e4-bb97-816a225cc366",
   "metadata": {},
   "outputs": [
    {
     "data": {
      "text/plain": [
       "array([0, 0, 0, 0, 0, 0, 0, 0, 0, 0, 0, 0, 0, 0, 0, 0, 0, 0, 0, 0, 0, 0,\n",
       "       0, 0, 0, 0, 0, 0, 0, 0, 0, 0, 0, 0, 0, 2, 2, 2, 2, 2, 2, 2, 2, 2,\n",
       "       2, 2, 2, 2, 2, 2, 2, 2, 2, 2, 2, 2, 2, 2, 2, 2, 2, 2, 2, 2, 2, 2,\n",
       "       2, 2, 2, 2, 2, 2, 2, 2, 2, 2, 2, 1, 1, 1, 2, 2, 2, 2, 2, 2, 2, 2,\n",
       "       2, 2, 2, 2, 2, 2, 2, 2, 2, 2, 2, 2, 2, 2, 2, 2, 2, 2, 2, 2, 2, 1,\n",
       "       2, 2, 2, 1, 1, 1, 1, 1, 1, 1, 1, 1, 1, 1, 1, 1, 1, 1, 1, 1, 1, 1,\n",
       "       1, 1, 1, 1, 1, 1, 1, 1, 1, 1, 1, 1, 1, 1, 1, 1, 1, 1, 1, 0, 0, 0,\n",
       "       0, 0, 0, 0, 0, 0, 0, 0, 0, 0, 0, 0, 0, 0, 0, 0, 0, 0, 0, 0, 0, 0,\n",
       "       0, 0, 0, 0, 0, 0, 0, 0, 0, 0, 0, 0, 0, 0, 0, 0, 0, 0, 0, 0, 0, 0,\n",
       "       0, 0, 0, 0, 0, 0, 0, 0, 0, 0, 0, 0, 2, 2, 2, 2, 2, 2, 2, 2, 2, 2,\n",
       "       2, 2, 2, 2, 2, 1, 1, 1, 1, 2, 2, 2, 2, 2, 2, 2, 2, 2, 2, 2, 2, 2,\n",
       "       2, 2, 2, 2, 2, 2, 2, 2, 2, 2, 2, 2, 2, 2, 2, 2, 2, 2, 2, 1, 2, 2,\n",
       "       2, 2, 1, 2, 2, 2, 1, 2, 2, 1, 2, 1, 2, 1, 1, 1, 1, 1, 1, 1, 1, 1,\n",
       "       1, 1, 1, 1, 1, 1, 1, 1, 1, 1, 1, 1, 1, 1, 1, 1, 1, 1, 1, 1, 1, 1],\n",
       "      dtype=int32)"
      ]
     },
     "execution_count": 465,
     "metadata": {},
     "output_type": "execute_result"
    }
   ],
   "source": [
    "pipe.named_steps['cluster'].labels_"
   ]
  },
  {
   "cell_type": "code",
   "execution_count": 468,
   "id": "68927c9f-2ac4-4b53-a6db-c1b96e0df060",
   "metadata": {},
   "outputs": [
    {
     "data": {
      "image/png": "[encoded data removed]",
      "text/plain": [
       "<Figure size 432x288 with 1 Axes>"
      ]
     },
     "metadata": {
      "needs_background": "light"
     },
     "output_type": "display_data"
    }
   ],
   "source": [
    "sns.scatterplot(data=X, x='carat', y='price', hue=pd.Categorical(pipe.named_steps['cluster'].labels_));"
   ]
  },
  {
   "cell_type": "markdown",
   "id": "cd4786e2-6de7-45e1-8fe8-e1894cd69258",
   "metadata": {},
   "source": [
    "## Exercise\n",
    "\n",
    "1. In the penguins dataset, do a linear regression between the ```flipper_length_mm``` and ```body_mass_g``` features and plot the result. You might run into an error: carefully read the error and try to fix the problem."
   ]
  },
  {
   "cell_type": "code",
   "execution_count": 193,
   "id": "252da2d3-2c3a-45f6-baeb-ed4e5014aa6b",
   "metadata": {},
   "outputs": [],
   "source": [
    "import pandas as pd\n",
    "penguins = pd.read_csv('https://raw.githubusercontent.com/allisonhorst/palmerpenguins/master/inst/extdata/penguins.csv')"
   ]
  },
  {
   "cell_type": "markdown",
   "id": "f14905a6-1b50-4db9-afd1-b51427323f56",
   "metadata": {},
   "source": [
    "2. Do again a linear regression but this time add a polynomial feature (e.g. 2)"
   ]
  },
  {
   "cell_type": "markdown",
   "id": "bfe4dc3f-0015-44a8-9677-f589c2c573e1",
   "metadata": {},
   "source": [
    "3. Subselect the Gentoo species and run a logistic regression to classify penguins as male/female based on the ```body_mass_g``` feature. Use the ```liblinear``` solver option."
   ]
  },
  {
   "cell_type": "markdown",
   "id": "d4052d6c-96f8-425c-bf2c-4f4a71289258",
   "metadata": {},
   "source": [
    "4. Try to cluster the ```flipper_length_mm``` vs ```bill_length_mm``` features using ```SpectralClustering``` with 3 clusters. Do the cluster first without then with applying the standard scaler to the input"
   ]
  }
 ],
 "metadata": {
  "kernelspec": {
   "display_name": "Python 3 (ipykernel)",
   "language": "python",
   "name": "python3"
  },
  "language_info": {
   "codemirror_mode": {
    "name": "ipython",
    "version": 3
   },
   "file_extension": ".py",
   "mimetype": "text/x-python",
   "name": "python",
   "nbconvert_exporter": "python",
   "pygments_lexer": "ipython3",
   "version": "3.9.10"
  }
 },
 "nbformat": 4,
 "nbformat_minor": 5
}
