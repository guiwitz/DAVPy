{
 "cells": [
  {
   "cell_type": "markdown",
   "metadata": {
    "id": "8M8dqtraYgz0"
   },
   "source": [
    "# 3. Numpy for mathematics\n",
    "\n",
    "We had a preview of the possibilities offered by Numpy in the previous notebook when we multiplied two arrays **element-wise** without having to write a for loop. Numpy offers *vast* possibilities to extend this approach in much more complex cases. In this notebook we are going to see in a *very succint* way a few of the main features offered by Numpy. Numpy is a large library offering many tools for various problems. For your own work, you will often have to find the approriate function to achieve your goal, and usually a Google search is the fastes way to find information."
   ]
  },
  {
   "cell_type": "code",
   "execution_count": 1,
   "metadata": {
    "executionInfo": {
     "elapsed": 598,
     "status": "ok",
     "timestamp": 1614343801745,
     "user": {
      "displayName": "Guillaume Witz",
      "photoUrl": "https://lh3.googleusercontent.com/a-/AOh14GgT0K2JVYzEsjzsS5nhkUVjUrSIJ5jHzXnBoYrmVf8=s64",
      "userId": "16033870147214403532"
     },
     "user_tz": -60
    },
    "id": "YDD_4qmSapc-",
    "tags": []
   },
   "outputs": [],
   "source": [
    "import numpy as np"
   ]
  },
  {
   "cell_type": "markdown",
   "metadata": {
    "id": "uGnOChvPZxVZ"
   },
   "source": [
    "## Creating arrays\n",
    "\n",
    "We have seen that we can turn regular lists into arrays with the ```array()``` function. However this becomes quickly impractical for larger arrays. Numpy offers several functions to create particular arrays.\n"
   ]
  },
  {
   "cell_type": "markdown",
   "metadata": {
    "id": "9ORj4c0bY6qT"
   },
   "source": [
    "### Common simple arrays\n",
    "For example an array full of zeros or ones:"
   ]
  },
  {
   "cell_type": "code",
   "execution_count": 2,
   "metadata": {
    "colab": {
     "base_uri": "https://localhost:8080/"
    },
    "executionInfo": {
     "elapsed": 566,
     "status": "ok",
     "timestamp": 1614343816487,
     "user": {
      "displayName": "Guillaume Witz",
      "photoUrl": "https://lh3.googleusercontent.com/a-/AOh14GgT0K2JVYzEsjzsS5nhkUVjUrSIJ5jHzXnBoYrmVf8=s64",
      "userId": "16033870147214403532"
     },
     "user_tz": -60
    },
    "id": "uDuuQ08FaIVw",
    "outputId": "bfe03d2a-3c05-4799-ba5e-1facbca1affa",
    "tags": []
   },
   "outputs": [
    {
     "data": {
      "text/plain": [
       "array([[1., 1., 1.],\n",
       "       [1., 1., 1.]])"
      ]
     },
     "execution_count": 2,
     "metadata": {},
     "output_type": "execute_result"
    }
   ],
   "source": [
    "one_array = np.ones(shape=(2,3))\n",
    "one_array"
   ]
  },
  {
   "cell_type": "code",
   "execution_count": 3,
   "metadata": {
    "colab": {
     "base_uri": "https://localhost:8080/"
    },
    "executionInfo": {
     "elapsed": 483,
     "status": "ok",
     "timestamp": 1614343817291,
     "user": {
      "displayName": "Guillaume Witz",
      "photoUrl": "https://lh3.googleusercontent.com/a-/AOh14GgT0K2JVYzEsjzsS5nhkUVjUrSIJ5jHzXnBoYrmVf8=s64",
      "userId": "16033870147214403532"
     },
     "user_tz": -60
    },
    "id": "mhO0d9rFaIVw",
    "outputId": "68da233a-6808-403c-e501-a30f0f914237",
    "tags": []
   },
   "outputs": [
    {
     "data": {
      "text/plain": [
       "array([[0., 0., 0.],\n",
       "       [0., 0., 0.]])"
      ]
     },
     "execution_count": 3,
     "metadata": {},
     "output_type": "execute_result"
    }
   ],
   "source": [
    "zero_array = np.zeros(shape=(2,3))\n",
    "zero_array"
   ]
  },
  {
   "cell_type": "markdown",
   "metadata": {
    "id": "2oDbJgtcajbn"
   },
   "source": [
    "We see here that the two functions take a ```shape``` argument that describes the shape of the output array. Indeed arrays are not just lists but can also be lists of lists!\n",
    "\n",
    "If we obtain an array we can use the same ```shape``` property to find out the shape of an array:\n",
    "\n"
   ]
  },
  {
   "cell_type": "code",
   "execution_count": 4,
   "metadata": {
    "colab": {
     "base_uri": "https://localhost:8080/"
    },
    "executionInfo": {
     "elapsed": 669,
     "status": "ok",
     "timestamp": 1614343825095,
     "user": {
      "displayName": "Guillaume Witz",
      "photoUrl": "https://lh3.googleusercontent.com/a-/AOh14GgT0K2JVYzEsjzsS5nhkUVjUrSIJ5jHzXnBoYrmVf8=s64",
      "userId": "16033870147214403532"
     },
     "user_tz": -60
    },
    "id": "6qt9SibI1aqn",
    "outputId": "22064294-df90-4ca0-8d3e-d729002a3349",
    "tags": []
   },
   "outputs": [
    {
     "data": {
      "text/plain": [
       "(2, 3)"
      ]
     },
     "execution_count": 4,
     "metadata": {},
     "output_type": "execute_result"
    }
   ],
   "source": [
    "zero_array.shape"
   ]
  },
  {
   "cell_type": "markdown",
   "metadata": {
    "id": "P0UFoJsc1L25"
   },
   "source": [
    "Let's check the ```dtype```:"
   ]
  },
  {
   "cell_type": "code",
   "execution_count": 5,
   "metadata": {
    "colab": {
     "base_uri": "https://localhost:8080/"
    },
    "executionInfo": {
     "elapsed": 692,
     "status": "ok",
     "timestamp": 1614343827250,
     "user": {
      "displayName": "Guillaume Witz",
      "photoUrl": "https://lh3.googleusercontent.com/a-/AOh14GgT0K2JVYzEsjzsS5nhkUVjUrSIJ5jHzXnBoYrmVf8=s64",
      "userId": "16033870147214403532"
     },
     "user_tz": -60
    },
    "id": "gfBrq2idbErR",
    "outputId": "71612042-21e0-4cf3-dda8-0cf2e48fa27c",
    "tags": []
   },
   "outputs": [
    {
     "data": {
      "text/plain": [
       "dtype('float64')"
      ]
     },
     "execution_count": 5,
     "metadata": {},
     "output_type": "execute_result"
    }
   ],
   "source": [
    "one_array.dtype"
   ]
  },
  {
   "cell_type": "markdown",
   "metadata": {
    "id": "b8uVRWPmbKcD"
   },
   "source": [
    "By default, Numpy creates float arrays. As previously, if needed, we can fix this with the ```astype``` method."
   ]
  },
  {
   "cell_type": "markdown",
   "metadata": {
    "id": "2VjTdkDYaIV1"
   },
   "source": [
    "### Complex arrays\n",
    "\n",
    "We are not limited to create arrays containing ones or zeros. Very common operations involve e.g. the creation of arrays containing regularly arrange numbers. For example a \"from-to-by-step\" list:"
   ]
  },
  {
   "cell_type": "code",
   "execution_count": 6,
   "metadata": {
    "colab": {
     "base_uri": "https://localhost:8080/"
    },
    "executionInfo": {
     "elapsed": 495,
     "status": "ok",
     "timestamp": 1614343847399,
     "user": {
      "displayName": "Guillaume Witz",
      "photoUrl": "https://lh3.googleusercontent.com/a-/AOh14GgT0K2JVYzEsjzsS5nhkUVjUrSIJ5jHzXnBoYrmVf8=s64",
      "userId": "16033870147214403532"
     },
     "user_tz": -60
    },
    "id": "PwzY13BeaIV1",
    "outputId": "5ba30f9b-92d7-4d60-bf1f-e3e005d2ca20",
    "tags": []
   },
   "outputs": [
    {
     "data": {
      "text/plain": [
       "array([0, 2, 4, 6, 8])"
      ]
     },
     "execution_count": 6,
     "metadata": {},
     "output_type": "execute_result"
    }
   ],
   "source": [
    "arranged_array = np.arange(0, 10, 2)\n",
    "arranged_array"
   ]
  },
  {
   "cell_type": "markdown",
   "metadata": {
    "id": "UiqHLqtq19vn"
   },
   "source": [
    "Here also, we can find out what the shape of the array is as we didn't specify it explicitly. Since it's a 1D array we only get one value out:"
   ]
  },
  {
   "cell_type": "code",
   "execution_count": 7,
   "metadata": {
    "colab": {
     "base_uri": "https://localhost:8080/"
    },
    "executionInfo": {
     "elapsed": 488,
     "status": "ok",
     "timestamp": 1614343850794,
     "user": {
      "displayName": "Guillaume Witz",
      "photoUrl": "https://lh3.googleusercontent.com/a-/AOh14GgT0K2JVYzEsjzsS5nhkUVjUrSIJ5jHzXnBoYrmVf8=s64",
      "userId": "16033870147214403532"
     },
     "user_tz": -60
    },
    "id": "SHGvoY9p2F9p",
    "outputId": "fc580fb1-ff2a-421a-c3c4-e776bfafd10f",
    "tags": []
   },
   "outputs": [
    {
     "data": {
      "text/plain": [
       "(5,)"
      ]
     },
     "execution_count": 7,
     "metadata": {},
     "output_type": "execute_result"
    }
   ],
   "source": [
    "arranged_array.shape"
   ]
  },
  {
   "cell_type": "markdown",
   "metadata": {
    "id": "RcNP_V46aIV1"
   },
   "source": [
    "Or equidistant numbers between boundaries:"
   ]
  },
  {
   "cell_type": "code",
   "execution_count": 8,
   "metadata": {
    "colab": {
     "base_uri": "https://localhost:8080/"
    },
    "executionInfo": {
     "elapsed": 679,
     "status": "ok",
     "timestamp": 1614343854072,
     "user": {
      "displayName": "Guillaume Witz",
      "photoUrl": "https://lh3.googleusercontent.com/a-/AOh14GgT0K2JVYzEsjzsS5nhkUVjUrSIJ5jHzXnBoYrmVf8=s64",
      "userId": "16033870147214403532"
     },
     "user_tz": -60
    },
    "id": "pyJboJ7TaIV1",
    "outputId": "3de5bef1-005d-4445-d4cf-b878767f8897",
    "tags": []
   },
   "outputs": [
    {
     "data": {
      "text/plain": [
       "array([0.        , 0.11111111, 0.22222222, 0.33333333, 0.44444444,\n",
       "       0.55555556, 0.66666667, 0.77777778, 0.88888889, 1.        ])"
      ]
     },
     "execution_count": 8,
     "metadata": {},
     "output_type": "execute_result"
    }
   ],
   "source": [
    "np.linspace(0,1, 10)"
   ]
  },
  {
   "cell_type": "markdown",
   "metadata": {
    "id": "k_pQwPR7b3Kv"
   },
   "source": [
    "### Statistical arrays\n",
    "\n",
    "Numpy offeres also many options to create arrays filled with numbers drawn from a given distribution. Most of these functions are located in a sub-module called ```np.random```. For example we can draw numbers from a Poisson distribution $P(x = k, \\lambda) = \\frac{\\lambda^ke^{\\lambda}}{k!}$"
   ]
  },
  {
   "cell_type": "code",
   "execution_count": 9,
   "metadata": {
    "colab": {
     "base_uri": "https://localhost:8080/"
    },
    "executionInfo": {
     "elapsed": 525,
     "status": "ok",
     "timestamp": 1614343883343,
     "user": {
      "displayName": "Guillaume Witz",
      "photoUrl": "https://lh3.googleusercontent.com/a-/AOh14GgT0K2JVYzEsjzsS5nhkUVjUrSIJ5jHzXnBoYrmVf8=s64",
      "userId": "16033870147214403532"
     },
     "user_tz": -60
    },
    "id": "W67v2PYycHB-",
    "outputId": "8f69eb62-83fc-4515-e9e5-c9778f4af12e",
    "tags": []
   },
   "outputs": [
    {
     "data": {
      "text/plain": [
       "array([ 6, 11,  7,  4,  0,  2,  5,  5,  6,  3,  7,  3,  2,  2,  3,  8,  4,\n",
       "        6,  4,  8])"
      ]
     },
     "execution_count": 9,
     "metadata": {},
     "output_type": "execute_result"
    }
   ],
   "source": [
    "poisson = np.random.poisson(lam=5, size=20)\n",
    "poisson"
   ]
  },
  {
   "cell_type": "markdown",
   "metadata": {
    "id": "4aw6VkIIeCYp"
   },
   "source": [
    "## Applying functions to arrays\n",
    "\n",
    "We have already seen that we can combine arrays of the **same size** (there are exceptions to this rule, if you want to know more you can read about *broadcasting*). We can however also do mathematics with a single array. \n",
    "\n",
    "Numpy implements many standard mathematical functions that you can use as if you were dealing with a single number."
   ]
  },
  {
   "cell_type": "markdown",
   "metadata": {
    "id": "YfkrzhK2ZPf6"
   },
   "source": [
    "### Arithmetics\n",
    "In the simplest case you just to arithmetics:"
   ]
  },
  {
   "cell_type": "code",
   "execution_count": 10,
   "metadata": {
    "colab": {
     "base_uri": "https://localhost:8080/"
    },
    "executionInfo": {
     "elapsed": 547,
     "status": "ok",
     "timestamp": 1614343913468,
     "user": {
      "displayName": "Guillaume Witz",
      "photoUrl": "https://lh3.googleusercontent.com/a-/AOh14GgT0K2JVYzEsjzsS5nhkUVjUrSIJ5jHzXnBoYrmVf8=s64",
      "userId": "16033870147214403532"
     },
     "user_tz": -60
    },
    "id": "BHJY_YwGff6e",
    "outputId": "e4b2c391-4455-45b5-dd75-9a5d0058673f",
    "tags": []
   },
   "outputs": [
    {
     "data": {
      "text/plain": [
       "array([ 9, 14, 10,  7,  3,  5,  8,  8,  9,  6, 10,  6,  5,  5,  6, 11,  7,\n",
       "        9,  7, 11])"
      ]
     },
     "execution_count": 10,
     "metadata": {},
     "output_type": "execute_result"
    }
   ],
   "source": [
    "poisson + 3"
   ]
  },
  {
   "cell_type": "code",
   "execution_count": 11,
   "metadata": {
    "colab": {
     "base_uri": "https://localhost:8080/"
    },
    "executionInfo": {
     "elapsed": 538,
     "status": "ok",
     "timestamp": 1614343913667,
     "user": {
      "displayName": "Guillaume Witz",
      "photoUrl": "https://lh3.googleusercontent.com/a-/AOh14GgT0K2JVYzEsjzsS5nhkUVjUrSIJ5jHzXnBoYrmVf8=s64",
      "userId": "16033870147214403532"
     },
     "user_tz": -60
    },
    "id": "Umjs2uRYfl8-",
    "outputId": "0291618f-68d9-4d20-c664-841f451b858a",
    "tags": []
   },
   "outputs": [
    {
     "data": {
      "text/plain": [
       "array([1.71428571, 3.14285714, 2.        , 1.14285714, 0.        ,\n",
       "       0.57142857, 1.42857143, 1.42857143, 1.71428571, 0.85714286,\n",
       "       2.        , 0.85714286, 0.57142857, 0.57142857, 0.85714286,\n",
       "       2.28571429, 1.14285714, 1.71428571, 1.14285714, 2.28571429])"
      ]
     },
     "execution_count": 11,
     "metadata": {},
     "output_type": "execute_result"
    }
   ],
   "source": [
    "poisson / 3.5"
   ]
  },
  {
   "cell_type": "markdown",
   "metadata": {
    "id": "gKDyRLiEfooY"
   },
   "source": [
    "In both examples **the operation is applied element-wise**.You see that here again, Python dynamically decided of the type. In the first example the output stays an integer because we added an integer, while in the second one we devided by a float and therefore the output is a float.\n",
    "\n",
    "### Functions\n",
    "\n",
    "In addition to simple arithmetic, Numpy offers a vast choice of functions that can be directly applied to arrays. These always have the same syntax as in regular mathematics $y = f(x)$, albeit here $y$ and $x$ are arrrays. Here a few examples, e.g. in trigonometry:"
   ]
  },
  {
   "cell_type": "code",
   "execution_count": 12,
   "metadata": {
    "colab": {
     "base_uri": "https://localhost:8080/"
    },
    "executionInfo": {
     "elapsed": 572,
     "status": "ok",
     "timestamp": 1614343933643,
     "user": {
      "displayName": "Guillaume Witz",
      "photoUrl": "https://lh3.googleusercontent.com/a-/AOh14GgT0K2JVYzEsjzsS5nhkUVjUrSIJ5jHzXnBoYrmVf8=s64",
      "userId": "16033870147214403532"
     },
     "user_tz": -60
    },
    "id": "JDvL1k8agavY",
    "outputId": "53841e17-678f-44f3-f6d3-0c1ce6fb178f",
    "tags": []
   },
   "outputs": [
    {
     "data": {
      "text/plain": [
       "array([ 0.96017029,  0.0044257 ,  0.75390225, -0.65364362,  1.        ,\n",
       "       -0.41614684,  0.28366219,  0.28366219,  0.96017029, -0.9899925 ,\n",
       "        0.75390225, -0.9899925 , -0.41614684, -0.41614684, -0.9899925 ,\n",
       "       -0.14550003, -0.65364362,  0.96017029, -0.65364362, -0.14550003])"
      ]
     },
     "execution_count": 12,
     "metadata": {},
     "output_type": "execute_result"
    }
   ],
   "source": [
    "np.cos(poisson)"
   ]
  },
  {
   "cell_type": "markdown",
   "metadata": {
    "id": "heS3cxLrgdID"
   },
   "source": [
    "or for exponentials and logarithms:"
   ]
  },
  {
   "cell_type": "code",
   "execution_count": 13,
   "metadata": {
    "colab": {
     "base_uri": "https://localhost:8080/"
    },
    "executionInfo": {
     "elapsed": 487,
     "status": "ok",
     "timestamp": 1614343935198,
     "user": {
      "displayName": "Guillaume Witz",
      "photoUrl": "https://lh3.googleusercontent.com/a-/AOh14GgT0K2JVYzEsjzsS5nhkUVjUrSIJ5jHzXnBoYrmVf8=s64",
      "userId": "16033870147214403532"
     },
     "user_tz": -60
    },
    "id": "zHhEYbkjgr88",
    "outputId": "3a1b0b90-796e-4f21-8595-757ae1f358f8",
    "tags": []
   },
   "outputs": [
    {
     "data": {
      "text/plain": [
       "array([1.09663316e+03, 7.38905610e+00, 5.45981500e+01, 5.45981500e+01,\n",
       "       1.00000000e+00, 2.00855369e+01, 2.00855369e+01, 1.48413159e+02,\n",
       "       7.38905610e+00, 4.03428793e+02, 2.20264658e+04, 2.71828183e+00,\n",
       "       2.20264658e+04, 5.45981500e+01, 2.00855369e+01, 2.98095799e+03,\n",
       "       1.48413159e+02, 4.03428793e+02, 5.45981500e+01, 1.48413159e+02])"
      ]
     },
     "execution_count": 13,
     "metadata": {},
     "output_type": "execute_result"
    }
   ],
   "source": [
    "np.exp(poisson)"
   ]
  },
  {
   "cell_type": "code",
   "execution_count": 13,
   "metadata": {
    "colab": {
     "base_uri": "https://localhost:8080/"
    },
    "executionInfo": {
     "elapsed": 371,
     "status": "ok",
     "timestamp": 1614343935488,
     "user": {
      "displayName": "Guillaume Witz",
      "photoUrl": "https://lh3.googleusercontent.com/a-/AOh14GgT0K2JVYzEsjzsS5nhkUVjUrSIJ5jHzXnBoYrmVf8=s64",
      "userId": "16033870147214403532"
     },
     "user_tz": -60
    },
    "id": "W24fgu2fgtrT",
    "outputId": "8afe2294-bcb3-403f-95fa-95bbbd834b4d",
    "tags": []
   },
   "outputs": [
    {
     "data": {
      "text/plain": [
       "array([0.84509804, 1.07918125, 0.90308999, 0.69897   , 0.        ,\n",
       "       0.47712125, 0.77815125, 0.77815125, 0.84509804, 0.60205999,\n",
       "       0.90308999, 0.60205999, 0.47712125, 0.47712125, 0.60205999,\n",
       "       0.95424251, 0.69897   , 0.84509804, 0.69897   , 0.95424251])"
      ]
     },
     "execution_count": 13,
     "metadata": {},
     "output_type": "execute_result"
    }
   ],
   "source": [
    "np.log10(poisson+1)"
   ]
  },
  {
   "cell_type": "markdown",
   "metadata": {
    "id": "ZhPGAJlEiUeF"
   },
   "source": [
    "### Statistics\n",
    "\n",
    "When we applied the above functions to arrays, the output always had the same size as the input. However this is not the case if we want to summarize data with statistics. For example we can take the mean of an array:"
   ]
  },
  {
   "cell_type": "code",
   "execution_count": 14,
   "metadata": {
    "colab": {
     "base_uri": "https://localhost:8080/"
    },
    "executionInfo": {
     "elapsed": 546,
     "status": "ok",
     "timestamp": 1614343947162,
     "user": {
      "displayName": "Guillaume Witz",
      "photoUrl": "https://lh3.googleusercontent.com/a-/AOh14GgT0K2JVYzEsjzsS5nhkUVjUrSIJ5jHzXnBoYrmVf8=s64",
      "userId": "16033870147214403532"
     },
     "user_tz": -60
    },
    "id": "sOBRKpM8iojv",
    "outputId": "bfdaacc8-375f-469b-f10c-1a38218a27c9",
    "tags": []
   },
   "outputs": [
    {
     "data": {
      "text/plain": [
       "4.8"
      ]
     },
     "execution_count": 14,
     "metadata": {},
     "output_type": "execute_result"
    }
   ],
   "source": [
    "np.mean(poisson)"
   ]
  },
  {
   "cell_type": "markdown",
   "metadata": {
    "id": "zL5H9rc8iqm_"
   },
   "source": [
    "Or find the maximal value in an array:"
   ]
  },
  {
   "cell_type": "code",
   "execution_count": 15,
   "metadata": {
    "colab": {
     "base_uri": "https://localhost:8080/"
    },
    "executionInfo": {
     "elapsed": 711,
     "status": "ok",
     "timestamp": 1614343948442,
     "user": {
      "displayName": "Guillaume Witz",
      "photoUrl": "https://lh3.googleusercontent.com/a-/AOh14GgT0K2JVYzEsjzsS5nhkUVjUrSIJ5jHzXnBoYrmVf8=s64",
      "userId": "16033870147214403532"
     },
     "user_tz": -60
    },
    "id": "0aU5OPjMivEv",
    "outputId": "918c8ade-5fbf-4975-8aa3-dc1cd6f17919",
    "tags": []
   },
   "outputs": [
    {
     "data": {
      "text/plain": [
       "11"
      ]
     },
     "execution_count": 15,
     "metadata": {},
     "output_type": "execute_result"
    }
   ],
   "source": [
    "np.max(poisson)"
   ]
  },
  {
   "cell_type": "markdown",
   "metadata": {
    "id": "Yb2UVLHpjAd3"
   },
   "source": [
    "## The dot notation\n",
    "\n",
    "As we have already seen with ```astype()``` for example, Numpy arrays come with a lot of functions attached to them (methods). In particular many of the statistics functions can be called in that way, e.g. the mean:"
   ]
  },
  {
   "cell_type": "code",
   "execution_count": 16,
   "metadata": {
    "colab": {
     "base_uri": "https://localhost:8080/"
    },
    "executionInfo": {
     "elapsed": 618,
     "status": "ok",
     "timestamp": 1614343961401,
     "user": {
      "displayName": "Guillaume Witz",
      "photoUrl": "https://lh3.googleusercontent.com/a-/AOh14GgT0K2JVYzEsjzsS5nhkUVjUrSIJ5jHzXnBoYrmVf8=s64",
      "userId": "16033870147214403532"
     },
     "user_tz": -60
    },
    "id": "-FmixAQB08uI",
    "outputId": "2e483797-0bb5-4ff0-c60a-23747d64267c",
    "tags": []
   },
   "outputs": [
    {
     "data": {
      "text/plain": [
       "4.8"
      ]
     },
     "execution_count": 16,
     "metadata": {},
     "output_type": "execute_result"
    }
   ],
   "source": [
    "poisson.mean()"
   ]
  },
  {
   "cell_type": "markdown",
   "metadata": {
    "id": "R3lGHSOHcMDu"
   },
   "source": [
    "## Exercise\n",
    "\n",
    "1. Find out how to generate a list of 10 numbers drawn from a **normal distribution** with a mean of 10 and standard deviation of 2.\n",
    "\n",
    "2. Create a list of 10 numbers evenly spaced between 0 and 90.\n",
    "\n",
    "3. Assuming that the values you obtained in (2) are angles in degrees, find a function that converts degrees to radians and apply it to the array.\n",
    "\n",
    "4. Calculate the standard deviation of the array obtained in (3). Use both a numpy function (```np.myfun```) and a method attached to the array."
   ]
  }
 ],
 "metadata": {
  "colab": {
   "authorship_tag": "ABX9TyMxeWTS1zSFjv0IZ/+DkE4Q",
   "collapsed_sections": [],
   "name": "03-Numpy_maths.ipynb",
   "provenance": [],
   "toc_visible": true
  },
  "kernelspec": {
   "display_name": "Python 3 (ipykernel)",
   "language": "python",
   "name": "python3"
  },
  "language_info": {
   "codemirror_mode": {
    "name": "ipython",
    "version": 3
   },
   "file_extension": ".py",
   "mimetype": "text/x-python",
   "name": "python",
   "nbconvert_exporter": "python",
   "pygments_lexer": "ipython3",
   "version": "3.10.10"
  }
 },
 "nbformat": 4,
 "nbformat_minor": 4
}
